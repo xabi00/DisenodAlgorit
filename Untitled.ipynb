{
 "cells": [
  {
   "cell_type": "code",
   "execution_count": 1,
   "id": "65cfe49f",
   "metadata": {},
   "outputs": [
    {
     "name": "stdout",
     "output_type": "stream",
     "text": [
      "Enter a number: 256\n",
      "The factorial of 256 is 857817775342842654119082271681232625157781520279485619859655650377269452553147589377440291360451408450375885342336584306157196834693696475322289288497426025679637332563368786442675207626794560187968867971521143307702077526646451464709187326100832876325702818980773671781454170250523018608495319068138257481070252817559459476987034665712738139286205234756808218860701203611083152093501947437109101726968262861606263662435022840944191408424615936000000000000000000000000000000000000000000000000000000000000000\n",
      "The time to calculate the factorial of 256 is 0.0004954338073730469\n",
      "Enter a number: 22\n",
      "The factorial of 22 is 1124000727777607680000\n",
      "The time to calculate the factorial of 22 is 0.0004949569702148438\n"
     ]
    }
   ],
   "source": [
    "import time\n",
    "def recur_fac(n):\n",
    "   \"\"\"Function to return the factorial\n",
    "   of a number using recursion\"\"\"\n",
    "   if n == 1:\n",
    "       return 1\n",
    "   else:\n",
    "       return n * recur_fac(n-1)\n",
    "\n",
    "\n",
    "# take input from the user\n",
    "num = int(input(\"Enter a number: \"))\n",
    "t1=time.time()\n",
    "# check is the number is negative\n",
    "if num < 0:\n",
    "   print(\"Sorry, factorial does not exist for negative numbers\")\n",
    "elif num == 0:\n",
    "   print(\"The factorial of 0 is 1\")\n",
    "else:\n",
    "   print(\"The factorial of\",num,\"is\",recur_fac(num))\n",
    "t2=time.time()\n",
    "print('The time to calculate the factorial of',num,'is',t2-t1)\n",
    "num2 = int(input(\"Enter a number: \"))\n",
    "t3=time.time()\n",
    "# check is the number is negative\n",
    "if num < 0:\n",
    "   print(\"Sorry, factorial does not exist for negative numbers\")\n",
    "elif num == 0:\n",
    "   print(\"The factorial of 0 is 1\")\n",
    "else:\n",
    "   print(\"The factorial of\",num2,\"is\",recur_fac(num2))\n",
    "t4=time.time()\n",
    "print('The time to calculate the factorial of',num2,'is',t4-t3)"
   ]
  },
  {
   "cell_type": "code",
   "execution_count": null,
   "id": "778ed0df",
   "metadata": {},
   "outputs": [],
   "source": []
  }
 ],
 "metadata": {
  "kernelspec": {
   "display_name": "Python 3 (ipykernel)",
   "language": "python",
   "name": "python3"
  },
  "language_info": {
   "codemirror_mode": {
    "name": "ipython",
    "version": 3
   },
   "file_extension": ".py",
   "mimetype": "text/x-python",
   "name": "python",
   "nbconvert_exporter": "python",
   "pygments_lexer": "ipython3",
   "version": "3.9.7"
  }
 },
 "nbformat": 4,
 "nbformat_minor": 5
}
